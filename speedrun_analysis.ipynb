{
 "cells": [
  {
   "cell_type": "code",
   "execution_count": null,
   "metadata": {},
   "outputs": [],
   "source": [
    "import pandas as pd\n",
    "import matplotlib.pyplot as plt\n",
    "import seaborn as sns"
   ]
  },
  {
   "cell_type": "code",
   "execution_count": null,
   "metadata": {},
   "outputs": [],
   "source": [
    "#Import data as a dataframe\n",
    "\n",
    "freestyle = pd.read_csv('speedrun_data.csv')\n",
    "\n",
    "#Reorganize indexes\n",
    "# speed_df.set_index(['Star Rating','Monster Name'],inplace=True)\n",
    "\n",
    "freestyle.head()"
   ]
  },
  {
   "cell_type": "code",
   "execution_count": null,
   "metadata": {},
   "outputs": [],
   "source": [
    "# Filter out 'repeat runs'\n",
    "# 'Repeat run': run on the same monster, same quest, by the same runner with the same weapon, but different times.\n",
    "# Keep only the fastest run\n",
    "\n",
    "freestyle = freestyle.drop_duplicates(['Monster Name','Quest','Runner','Weapon'],keep='first') #Already sorted by time,\n",
    "                                                                                               #first time = fastest!\n"
   ]
  },
  {
   "cell_type": "code",
   "execution_count": null,
   "metadata": {},
   "outputs": [],
   "source": [
    "#Function to convert the time field to seconds\n",
    "def to_seconds(time_string):\n",
    "    \n",
    "    #Get minutes, seconds and centi seconds from string\n",
    "    minutes = int(time_string[0:2])\n",
    "    seconds = int(time_string[3:5])\n",
    "    cents = int(time_string[6:])\n",
    "    \n",
    "    #Return total in seconds\n",
    "    return 60*minutes+seconds+cents/100\n",
    "    \n",
    "#Add Time (s) column\n",
    "freestyle.insert(5, 'Time (s)', freestyle['Time'].apply(to_seconds))"
   ]
  },
  {
   "cell_type": "code",
   "execution_count": null,
   "metadata": {},
   "outputs": [],
   "source": [
    "#Convert Star Rating to string (discrete values!)\n",
    "freestyle['Star Rating']=freestyle['Star Rating'].apply(str)"
   ]
  },
  {
   "cell_type": "code",
   "execution_count": null,
   "metadata": {},
   "outputs": [],
   "source": [
    "#Abbreviate weapon names\n",
    "\n",
    "weapon_dict = {'Great Sword':'GS',\n",
    "               'Long Sword':'LS',\n",
    "               'Sword And Shield':'SnS',\n",
    "               'Dual Blades':'DB',\n",
    "               'Lance':'Lance',\n",
    "               'Gunlance':'GL',\n",
    "               'Hammer':'Hammer',\n",
    "               'Hunting Horn':'HH',\n",
    "               'Switch Axe':'SA',\n",
    "               'Charge Blade':'CB',\n",
    "               'Insect Glaive':'IG',\n",
    "               'Heavy Bowgun':'HBG',\n",
    "               'Light Bowgun':'LBG',\n",
    "               'Bow':'Bow'    \n",
    "               }\n",
    "\n",
    "#Apply dict to weapons column\n",
    "freestyle['Weapon']=freestyle['Weapon'].apply(lambda x: weapon_dict[x])"
   ]
  },
  {
   "cell_type": "code",
   "execution_count": null,
   "metadata": {},
   "outputs": [],
   "source": [
    "# Sort dataframe by, in order: Star Rating, Monster Name, Quest, and Time\n",
    "freestyle = freestyle.sort_values(['Star Rating','Monster Name','Time (s)','Quest'],ascending=[False,True,True,True])\n",
    "\n",
    "#Fix indexes\n",
    "freestyle = freestyle.reset_index(drop=True)"
   ]
  },
  {
   "cell_type": "code",
   "execution_count": null,
   "metadata": {},
   "outputs": [],
   "source": [
    "# Function to generate rankings by quest or monster\n",
    "def general_rank(speed_df,rank_by_column='Quest',time_column='Time (s)',sort=True):\n",
    "    \n",
    "\n",
    "    # Sort dataframe accordingly\n",
    "    if sort:\n",
    "        speed_df = speed_df.sort_values([rank_by_column,time_column],ascending=True)\n",
    "    \n",
    "    #Start with an empty list\n",
    "    ranking=[]\n",
    "    \n",
    "    #Get a list of all items to iterate through\n",
    "    rank_by_list = speed_df[rank_by_column].unique()\n",
    "    \n",
    "    #Iterate through all quests or monsters\n",
    "    for item in rank_by_list: \n",
    "        #First entry is always rank 1\n",
    "        rank = 1; \n",
    "\n",
    "        #Get slice of the input df corresponding to the quest name\n",
    "        df_slice = speed_df[speed_df[rank_by_column]==item]\n",
    "\n",
    "        #Append rankings to the list, for the length of the slice\n",
    "        for index, row in df_slice.iterrows():\n",
    "            ranking.append(rank)\n",
    "            rank += 1\n",
    "\n",
    "        #Reset rank count for next iteration\n",
    "        rank=1;\n",
    "    \n",
    "    #Create DataFrame to return\n",
    "    rank_df = pd.DataFrame(data=ranking,index=speed_df.index)\n",
    "    \n",
    "    #If sorted previously, return to old sorting before returning\n",
    "    if sort:\n",
    "        rank_df = rank_df.sort_index()\n",
    "\n",
    "    return rank_df"
   ]
  },
  {
   "cell_type": "code",
   "execution_count": null,
   "metadata": {},
   "outputs": [],
   "source": [
    "# Function to generate rankings by quest or monster, separating each weapon\n",
    "def weapon_rank(speed_df,rank_by_column='Quest',weapon_column='Weapon',time_column='Time (s)',sort=True):\n",
    "    \n",
    "    #Sort dataframe accordingly\n",
    "    if sort:\n",
    "        speed_df = speed_df.sort_values([rank_by_column,weapon_column,time_column],ascending=[True,True,True])\n",
    "    \n",
    "    #Start with empty list\n",
    "    ranking=[] \n",
    "    \n",
    "    #Get a list of all items to iterate through\n",
    "    rank_by_list = speed_df[rank_by_column].unique()\n",
    "    \n",
    "    #Iterate through all quests or monsters\n",
    "    for item in rank_by_list: \n",
    "        \n",
    "        #Get slice of the input df corresponding to the quest name\n",
    "        df_slice = speed_df[speed_df[rank_by_column]==item]\n",
    "    \n",
    "        #Get list of weapons with an entry for this quest/monster\n",
    "        weapon_list = df_slice[weapon_column].unique()\n",
    "\n",
    "        #Iterate through all weapons\n",
    "        for weapon in weapon_list:\n",
    "            #First entry is always rank 1\n",
    "            rank = 1;     \n",
    "\n",
    "            #Get subslice of slice_df corresponding to this weapon\n",
    "            df_subslice = df_slice[df_slice[weapon_column]==weapon]\n",
    "\n",
    "            #Append rankings to the list, for the length of the slice\n",
    "            for subindex, subrow in df_subslice.iterrows():\n",
    "                ranking.append(rank)\n",
    "                rank += 1\n",
    "\n",
    "            #Reset rank count for next iteration\n",
    "            rank=1;\n",
    "    \n",
    "    #Create DataFrame to return\n",
    "    rank_df = pd.DataFrame(data=ranking,index=speed_df.index)\n",
    "    \n",
    "    #If sorted previously, return to old sorting before returning\n",
    "    if sort:\n",
    "        rank_df = rank_df.sort_index()\n",
    "\n",
    "    return rank_df"
   ]
  },
  {
   "cell_type": "code",
   "execution_count": null,
   "metadata": {},
   "outputs": [],
   "source": [
    "# Separate TA runs. Note that Freestyle runs also encompass TA runs (ie a TA run is also a Freestyle run, but a Freestyle run\n",
    "# not be a TA run)\n",
    "\n",
    "ta = freestyle[freestyle['Ruleset']=='TA Rules'].copy()\n",
    "ta = ta.drop('Ruleset',axis=1) #Drop Ruleset column as it is redundant"
   ]
  },
  {
   "cell_type": "code",
   "execution_count": null,
   "metadata": {},
   "outputs": [],
   "source": [
    "#Rank by monster\n",
    "freestyle['Monster/General'] = general_rank(freestyle[['Monster Name','Time (s)']],rank_by_column='Monster Name')\n",
    "ta['Monster/General'] = general_rank(ta[['Monster Name','Time (s)']],rank_by_column='Monster Name')\n",
    "\n",
    "#Rank by quest\n",
    "freestyle['Quest/General'] = general_rank(freestyle[['Quest','Time (s)']],rank_by_column='Quest')\n",
    "ta['Quest/General'] = general_rank(ta[['Quest','Time (s)']],rank_by_column='Quest')"
   ]
  },
  {
   "cell_type": "code",
   "execution_count": null,
   "metadata": {},
   "outputs": [],
   "source": [
    "#Rank by monster and weapon type\n",
    "freestyle['Monster/Weapon'] = weapon_rank(freestyle[['Monster Name','Weapon','Time (s)']],\n",
    "                                          rank_by_column='Monster Name',weapon_column='Weapon')\n",
    "ta['Monster/Weapon'] = weapon_rank(ta[['Monster Name','Weapon','Time (s)']],\n",
    "                                          rank_by_column='Monster Name',weapon_column='Weapon')\n",
    "\n",
    "#Rank by quest and weapon type\n",
    "freestyle['Quest/Weapon'] = weapon_rank(freestyle[['Quest','Weapon','Time (s)']],\n",
    "                                        rank_by_column='Quest',weapon_column='Weapon')\n",
    "ta['Quest/Weapon'] = weapon_rank(ta[['Quest','Weapon','Time (s)']],\n",
    "                                        rank_by_column='Quest',weapon_column='Weapon')"
   ]
  },
  {
   "cell_type": "code",
   "execution_count": null,
   "metadata": {},
   "outputs": [],
   "source": [
    "#Very early analysis: just get average TOP clear time by weapons/monsters\n",
    "\n",
    "#Pick out the top freestyle and TA runs\n",
    "avg_freestyle = freestyle[freestyle['Monster/Weapon']==1]\n",
    "avg_ta = ta[ta['Monster/Weapon']==1]\n",
    "\n",
    "#Group by weapon type and get the mean values\n",
    "avg_freestyle = avg_freestyle.groupby('Weapon').mean().reset_index()\n",
    "avg_ta = avg_ta.groupby('Weapon').mean().reset_index()\n",
    "\n",
    "#Sort weapons\n",
    "avg_freestyle = avg_freestyle.sort_values('Time (s)',ascending=True)\n",
    "avg_ta = avg_ta.sort_values('Time (s)',ascending=True)"
   ]
  },
  {
   "cell_type": "code",
   "execution_count": null,
   "metadata": {},
   "outputs": [],
   "source": [
    "avg_freestyle"
   ]
  },
  {
   "cell_type": "code",
   "execution_count": null,
   "metadata": {
    "scrolled": true
   },
   "outputs": [],
   "source": [
    "#Plot average freestyle times\n",
    "plt.figure(figsize=(16,7))\n",
    "sns.barplot(x='Weapon',y='Time (s)',data=avg_freestyle)"
   ]
  },
  {
   "cell_type": "code",
   "execution_count": null,
   "metadata": {},
   "outputs": [],
   "source": [
    "#Plot average TA times\n",
    "plt.figure(figsize=(16,7))\n",
    "sns.barplot(x='Weapon',y='Time (s)',data=avg_ta)"
   ]
  },
  {
   "cell_type": "code",
   "execution_count": null,
   "metadata": {},
   "outputs": [],
   "source": []
  }
 ],
 "metadata": {
  "kernelspec": {
   "display_name": "ibspeedrun",
   "language": "python",
   "name": "ibspeedrun"
  },
  "language_info": {
   "codemirror_mode": {
    "name": "ipython",
    "version": 3
   },
   "file_extension": ".py",
   "mimetype": "text/x-python",
   "name": "python",
   "nbconvert_exporter": "python",
   "pygments_lexer": "ipython3",
   "version": "3.8.5-final"
  }
 },
 "nbformat": 4,
 "nbformat_minor": 4
}
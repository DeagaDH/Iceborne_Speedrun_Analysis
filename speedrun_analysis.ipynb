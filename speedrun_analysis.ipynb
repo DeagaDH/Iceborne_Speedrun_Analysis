{
 "cells": [
  {
   "cell_type": "code",
   "execution_count": null,
   "metadata": {},
   "outputs": [],
   "source": [
    "import pandas as pd\n",
    "import numpy as np\n",
    "import matplotlib.pyplot as plt\n",
    "import seaborn as sns\n",
    "from make_rankings import *"
   ]
  },
  {
   "cell_type": "code",
   "execution_count": null,
   "metadata": {},
   "outputs": [],
   "source": [
    "#Get Freestyle and TA rankings from 'speedrun_data.csv'\n",
    "\n",
    "freestyle,ta = make_rankings('speedrun_data.csv')"
   ]
  },
  {
   "cell_type": "code",
   "execution_count": null,
   "metadata": {},
   "outputs": [],
   "source": [
    "#Prepare figure properties for later graphs\n",
    "figure_size = (16,7)\n",
    "font_size = 20"
   ]
  },
  {
   "cell_type": "code",
   "execution_count": null,
   "metadata": {},
   "outputs": [],
   "source": [
    "#Very early analysis: just get average TOP clear time by weapons/monsters\n",
    "\n",
    "avg_freestyle = average_top_runs(freestyle,'Monster/Weapon')\n",
    "avg_ta = average_top_runs(ta,'Monster/Weapon')\n",
    "\n",
    "#Plot average freestyle times\n",
    "sns.set_context('notebook')\n",
    "sns.set_style('dark')\n",
    "\n",
    "plt.figure(figsize=figure_size)\n",
    "sns.barplot(x='Weapon',y='Time (s)',data=avg_freestyle).set_title('Average clear time by Monster - Freestyle',fontsize=font_size)\n",
    "\n",
    "#Plot average TA times\n",
    "plt.figure(figsize=figure_size)\n",
    "sns.barplot(x='Weapon',y='Time (s)',data=avg_ta).set_title('Average clear time by Monster - TA',fontsize=font_size)"
   ]
  },
  {
   "cell_type": "code",
   "execution_count": null,
   "metadata": {},
   "outputs": [],
   "source": [
    "#Same analysis, but considering top times by weapon/QUEST\n",
    "\n",
    "avg_freestyle = average_top_runs(freestyle,'Quest/Weapon')\n",
    "avg_ta = average_top_runs(ta,'Quest/Weapon')\n",
    "\n",
    "plt.figure(figsize=figure_size)\n",
    "sns.barplot(x='Weapon',y='Time (s)',data=avg_freestyle).set_title('Average clear time by Quest - Freestyle',fontsize=font_size)\n",
    "\n",
    "plt.figure(figsize=figure_size)\n",
    "sns.barplot(x='Weapon',y='Time (s)',data=avg_ta).set_title('Average clear time by Quest - TA Rules',fontsize=font_size)"
   ]
  },
  {
   "cell_type": "code",
   "execution_count": null,
   "metadata": {},
   "outputs": [],
   "source": [
    "#Second analysis: filter only the top runs and see the average times\n",
    "\n",
    "fs_all_weapons = filter_by_weapon(freestyle)\n",
    "ta_all_weapons = filter_by_weapon(ta)\n",
    "\n",
    "#Get average times\n",
    "fs_aw_avg = average_top_runs(fs_all_weapons,'Monster/Weapon')\n",
    "ta_aw_avg = average_top_runs(ta_all_weapons,'Monster/Weapon')\n",
    "\n",
    "plt.figure(figsize=figure_size)\n",
    "sns.barplot(x='Weapon',y='Time (s)',data=fs_aw_avg).set_title('Average TOP clear time by Monster - Freestyle', fontsize =font_size)\n",
    "\n",
    "plt.figure(figsize=figure_size)\n",
    "sns.barplot(x='Weapon',y='Time (s)',data=ta_aw_avg).set_title('Average TOP clear time by Monster - TA', fontsize =font_size)"
   ]
  },
  {
   "cell_type": "code",
   "execution_count": null,
   "metadata": {},
   "outputs": [],
   "source": [
    "#Create 'Weapon (long)' column to have long form weapon names\n",
    "#First, get the inverse weapon_dict to go from short names to long names\n",
    "inv_weapon_dict = {value: key for key, value in weapon_dict.items()}\n",
    "\n",
    "#Apply mapping from inv_weapon-dict\n",
    "fs_aw_avg['Weapon (long)']=fs_aw_avg['Weapon'].apply(lambda x: inv_weapon_dict[x])\n",
    "ta_aw_avg['Weapon (long)']=ta_aw_avg['Weapon'].apply(lambda x: inv_weapon_dict[x])\n",
    "\n",
    "#Numerical values\n",
    "print('Freestyle average top clear times per weapon (1 entry per monster)')\n",
    "print(fs_aw_avg[['Weapon (long)','Time (s)']])\n",
    "print('\\nTA Rules average top clear times per weapon (1 entry per monster)')\n",
    "print(ta_aw_avg[['Weapon (long)','Time (s)']])"
   ]
  },
  {
   "cell_type": "code",
   "execution_count": null,
   "metadata": {},
   "outputs": [],
   "source": [
    "#Now repeat second analysis, but separate entries by Quest rather than Monster\n",
    "\n",
    "fs_all_weapons = filter_by_weapon(freestyle)\n",
    "ta_all_weapons = filter_by_weapon(ta)\n",
    "\n",
    "fs_aw_avg_q = average_top_runs(fs_all_weapons,'Quest/Weapon')\n",
    "ta_aw_avg_q = average_top_runs(ta_all_weapons,'Quest/Weapon')\n",
    "\n",
    "plt.figure(figsize=figure_size)\n",
    "sns.barplot(x='Weapon',y='Time (s)',data=fs_aw_avg).set_title('Average TOP clear time by Monster - Freestyle', fontsize =font_size)\n",
    "\n",
    "plt.figure(figsize=figure_size)\n",
    "sns.barplot(x='Weapon',y='Time (s)',data=ta_aw_avg).set_title('Average TOP clear time by Monster - TA', fontsize =font_size)"
   ]
  },
  {
   "cell_type": "code",
   "execution_count": null,
   "metadata": {},
   "outputs": [],
   "source": [
    "#Create 'Weapon (long)' column to have long form weapon names\n",
    "#First, get the inverse weapon_dict to go from short names to long names\n",
    "inv_weapon_dict = {value: key for key, value in weapon_dict.items()}\n",
    "\n",
    "#Apply mapping from inv_weapon-dict\n",
    "fs_aw_avg_q['Weapon (long)']=fs_aw_avg_q['Weapon'].apply(lambda x: inv_weapon_dict[x])\n",
    "ta_aw_avg_q['Weapon (long)']=ta_aw_avg_q['Weapon'].apply(lambda x: inv_weapon_dict[x])\n",
    "\n",
    "#Numerical values\n",
    "print('Freestyle average top clear times per weapon (1 entry per Quest)')\n",
    "print(fs_aw_avg_q[['Weapon (long)','Time (s)']])\n",
    "print('\\nTA Rules average top clear times per weapon (1 entry per Quest)')\n",
    "print(ta_aw_avg_q[['Weapon (long)','Time (s)']])"
   ]
  },
  {
   "cell_type": "code",
   "execution_count": null,
   "metadata": {},
   "outputs": [],
   "source": [
    "#Make some tier lists\n",
    "\n",
    "#Freestyle\n",
    "tl_fs_quest   = make_tiers(fs_aw_avg_q,n_tiers=10) #By quest\n",
    "tl_fs_monster = make_tiers(fs_aw_avg,n_tiers=10)   #By monster\n",
    "\n",
    "#TA\n",
    "tl_ta_quest   = make_tiers(ta_aw_avg_q,n_tiers=10) #By quest\n",
    "tl_ta_monster = make_tiers(ta_aw_avg,n_tiers=10)   #By monster"
   ]
  },
  {
   "cell_type": "code",
   "execution_count": null,
   "metadata": {},
   "outputs": [],
   "source": [
    "#Display tier lists\n",
    "\n",
    "print('Freestyle Tier list - Best times by MONSTER')\n",
    "tl_fs_monster"
   ]
  },
  {
   "cell_type": "code",
   "execution_count": null,
   "metadata": {},
   "outputs": [],
   "source": [
    "print('Freestyle Tier list - Best times by QUEST')\n",
    "tl_fs_quest"
   ]
  },
  {
   "cell_type": "code",
   "execution_count": null,
   "metadata": {},
   "outputs": [],
   "source": [
    "print('TA Rules Tier list - Best times by MONSTER')\n",
    "tl_ta_monster"
   ]
  },
  {
   "cell_type": "code",
   "execution_count": null,
   "metadata": {},
   "outputs": [],
   "source": [
    "print('TA Rules Tier list - Best times by QUEST')\n",
    "tl_ta_monster"
   ]
  },
  {
   "cell_type": "code",
   "execution_count": null,
   "metadata": {},
   "outputs": [],
   "source": []
  }
 ],
 "metadata": {
  "kernelspec": {
   "name": "ibspeedrun",
   "display_name": "ibspeedrun",
   "language": "python"
  },
  "language_info": {
   "codemirror_mode": {
    "name": "ipython",
    "version": 3
   },
   "file_extension": ".py",
   "mimetype": "text/x-python",
   "name": "python",
   "nbconvert_exporter": "python",
   "pygments_lexer": "ipython3",
   "version": "3.8.5-final"
  }
 },
 "nbformat": 4,
 "nbformat_minor": 4
}
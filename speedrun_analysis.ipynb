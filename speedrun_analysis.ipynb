{
 "cells": [
  {
   "cell_type": "code",
   "execution_count": null,
   "metadata": {},
   "outputs": [],
   "source": [
    "import pandas as pd\n",
    "import numpy as np\n",
    "import matplotlib.pyplot as plt\n",
    "import seaborn as sns\n",
    "from make_rankings import *\n",
    "import os.path"
   ]
  },
  {
   "source": [
    "# IMPORTING SPEEDRUN DATA\n",
    "\n",
    "When importing, \"duplicate\" runs (ie multiple runs on the same quest, by the same runner, using the same weapon) are eliminated, so that only the fastest of the duplicates remains"
   ],
   "cell_type": "markdown",
   "metadata": {}
  },
  {
   "cell_type": "code",
   "execution_count": null,
   "metadata": {},
   "outputs": [],
   "source": [
    "#Check for existence of freestyle.csv and ta.csv\n",
    "if os.path.exists('freestyle.csv') and os.path.exists('ta.csv'):\n",
    "    freestyle = pd.read_csv('freestyle.csv')\n",
    "    ta = pd.read_csv('ta.csv')\n",
    "\n",
    "else:\n",
    "    #Get Freestyle and TA rankings from 'speedrun_data.csv'\n",
    "    freestyle,ta = make_rankings('speedrun_data.csv')"
   ]
  },
  {
   "cell_type": "code",
   "execution_count": null,
   "metadata": {},
   "outputs": [],
   "source": [
    "#Prepare figure properties for later graphs\n",
    "figure_size = (16,7)\n",
    "font_size = 20"
   ]
  },
  {
   "source": [
    "# 1. - INITIAL ANALYSIS\n",
    "### Check the average clear time per weapon"
   ],
   "cell_type": "markdown",
   "metadata": {}
  },
  {
   "cell_type": "code",
   "execution_count": null,
   "metadata": {},
   "outputs": [],
   "source": [
    "#Very early analysis: just get average TOP clear time by weapons/monsters\n",
    "avg_freestyle = average_top_runs(freestyle,'Monster/Weapon')\n",
    "avg_ta = average_top_runs(ta,'Monster/Weapon')\n",
    "\n",
    "#Plot average freestyle times\n",
    "sns.set_context('notebook')\n",
    "sns.set_style('dark')\n",
    "\n",
    "plt.figure(figsize=figure_size)\n",
    "sns.barplot(x='Weapon',y='Time (s)',data=avg_freestyle).set_title('Average clear time by Monster - Freestyle',fontsize=font_size)\n",
    "\n",
    "#Plot average TA times\n",
    "plt.figure(figsize=figure_size)\n",
    "sns.barplot(x='Weapon',y='Time (s)',data=avg_ta).set_title('Average clear time by Monster - TA',fontsize=font_size)"
   ]
  },
  {
   "cell_type": "code",
   "execution_count": null,
   "metadata": {},
   "outputs": [],
   "source": [
    "#Same analysis, but considering top times by weapon/QUEST\n",
    "avg_freestyle = average_top_runs(freestyle,'Quest/Weapon')\n",
    "avg_ta = average_top_runs(ta,'Quest/Weapon')\n",
    "\n",
    "plt.figure(figsize=figure_size)\n",
    "sns.barplot(x='Weapon',y='Time (s)',data=avg_freestyle).set_title('Average clear time by Quest - Freestyle',fontsize=font_size)\n",
    "\n",
    "plt.figure(figsize=figure_size)\n",
    "sns.barplot(x='Weapon',y='Time (s)',data=avg_ta).set_title('Average clear time by Quest - TA Rules',fontsize=font_size)"
   ]
  },
  {
   "source": [
    "# 2. - SECOND ANALYSIS\n",
    "### Check the average clear time of *only the fastest runs* per weapon"
   ],
   "cell_type": "markdown",
   "metadata": {}
  },
  {
   "cell_type": "code",
   "execution_count": null,
   "metadata": {},
   "outputs": [],
   "source": [
    "#Second analysis: filter only the top runs and see the average times\n",
    "fs_all_weapons = filter_by_weapon(freestyle,filter_by='Monster Name')\n",
    "ta_all_weapons = filter_by_weapon(ta,filter_by='Monster Name')\n",
    "\n",
    "#Get average times\n",
    "fs_aw_avg = average_top_runs(fs_all_weapons,'Monster/Weapon')\n",
    "ta_aw_avg = average_top_runs(ta_all_weapons,'Monster/Weapon')\n",
    "\n",
    "plt.figure(figsize=figure_size)\n",
    "sns.barplot(x='Weapon',y='Time (s)',data=fs_aw_avg).set_title('Average TOP clear time by Monster - Freestyle', fontsize =font_size)\n",
    "\n",
    "plt.figure(figsize=figure_size)\n",
    "sns.barplot(x='Weapon',y='Time (s)',data=ta_aw_avg).set_title('Average TOP clear time by Monster - TA', fontsize =font_size)"
   ]
  },
  {
   "cell_type": "code",
   "execution_count": null,
   "metadata": {},
   "outputs": [],
   "source": [
    "#Create 'Weapon (long)' column to have long form weapon names\n",
    "#First, get the inverse weapon_dict to go from short names to long names\n",
    "inv_weapon_dict = {value: key for key, value in weapon_dict.items()}\n",
    "\n",
    "#Apply mapping from inv_weapon-dict\n",
    "fs_aw_avg['Weapon (long)']=fs_aw_avg['Weapon'].apply(lambda x: inv_weapon_dict[x])\n",
    "ta_aw_avg['Weapon (long)']=ta_aw_avg['Weapon'].apply(lambda x: inv_weapon_dict[x])\n",
    "\n",
    "#Numerical values\n",
    "print('Freestyle average top clear times per weapon (1 entry per monster)')\n",
    "print(fs_aw_avg[['Weapon (long)','Time (s)']])\n",
    "print('\\nTA Rules average top clear times per weapon (1 entry per monster)')\n",
    "print(ta_aw_avg[['Weapon (long)','Time (s)']])"
   ]
  },
  {
   "cell_type": "code",
   "execution_count": null,
   "metadata": {},
   "outputs": [],
   "source": [
    "#Now repeat second analysis, but separate entries by Quest rather than Monster\n",
    "\n",
    "fs_all_weapons = filter_by_weapon(freestyle,filter_by='Quest')\n",
    "ta_all_weapons = filter_by_weapon(ta,filter_by='Quest')\n",
    "\n",
    "fs_aw_avg_q = average_top_runs(fs_all_weapons,'Quest/Weapon')\n",
    "ta_aw_avg_q = average_top_runs(ta_all_weapons,'Quest/Weapon')\n",
    "\n",
    "plt.figure(figsize=figure_size)\n",
    "sns.barplot(x='Weapon',y='Time (s)',data=fs_aw_avg).set_title('Average TOP clear time by Monster - Freestyle', fontsize =font_size)\n",
    "\n",
    "plt.figure(figsize=figure_size)\n",
    "sns.barplot(x='Weapon',y='Time (s)',data=ta_aw_avg).set_title('Average TOP clear time by Monster - TA', fontsize =font_size)"
   ]
  },
  {
   "cell_type": "code",
   "execution_count": null,
   "metadata": {},
   "outputs": [],
   "source": [
    "#Create 'Weapon (long)' column to have long form weapon names\n",
    "#First, get the inverse weapon_dict to go from short names to long names\n",
    "inv_weapon_dict = {value: key for key, value in weapon_dict.items()}\n",
    "\n",
    "#Apply mapping from inv_weapon-dict\n",
    "fs_aw_avg_q['Weapon (long)']=fs_aw_avg_q['Weapon'].apply(lambda x: inv_weapon_dict[x])\n",
    "ta_aw_avg_q['Weapon (long)']=ta_aw_avg_q['Weapon'].apply(lambda x: inv_weapon_dict[x])\n",
    "\n",
    "#Numerical values\n",
    "print('Freestyle average top clear times per weapon (1 entry per Quest)')\n",
    "print(fs_aw_avg_q[['Weapon (long)','Time (s)']])\n",
    "print('\\nTA Rules average top clear times per weapon (1 entry per Quest)')\n",
    "print(ta_aw_avg_q[['Weapon (long)','Time (s)']])"
   ]
  },
  {
   "source": [
    "## 2.1 - TIER LISTS BASED ON SECOND ANALYSIS\n",
    "\n",
    "Weapons will be classified in 'n_tiers' tiers, as chosen by the user."
   ],
   "cell_type": "markdown",
   "metadata": {}
  },
  {
   "cell_type": "code",
   "execution_count": null,
   "metadata": {},
   "outputs": [],
   "source": [
    "#Make some tier lists\n",
    "\n",
    "#Freestyle\n",
    "tl_fs_quest   = make_tiers(fs_aw_avg_q,n_tiers=7) #By quest\n",
    "tl_fs_monster = make_tiers(fs_aw_avg,n_tiers=7)   #By monster\n",
    "\n",
    "#TA\n",
    "tl_ta_quest   = make_tiers(ta_aw_avg_q,n_tiers=7) #By quest\n",
    "tl_ta_monster = make_tiers(ta_aw_avg,n_tiers=7)   #By monster"
   ]
  },
  {
   "cell_type": "code",
   "execution_count": null,
   "metadata": {},
   "outputs": [],
   "source": [
    "#Display tier lists\n",
    "\n",
    "print('Freestyle Tier list - Best times by MONSTER')\n",
    "tl_fs_monster"
   ]
  },
  {
   "cell_type": "code",
   "execution_count": null,
   "metadata": {},
   "outputs": [],
   "source": [
    "print('Freestyle Tier list - Best times by QUEST')\n",
    "tl_fs_quest"
   ]
  },
  {
   "cell_type": "code",
   "execution_count": null,
   "metadata": {},
   "outputs": [],
   "source": [
    "print('TA Rules Tier list - Best times by MONSTER')\n",
    "tl_ta_monster"
   ]
  },
  {
   "cell_type": "code",
   "execution_count": null,
   "metadata": {},
   "outputs": [],
   "source": [
    "print('TA Rules Tier list - Best times by QUEST')\n",
    "tl_ta_quest"
   ]
  },
  {
   "source": [
    "# 3. - REMOVE OUTLIERS, THEN RANK\n",
    "Find out which speedrun times are outliers (too fast or too slow for a given weapon), remove these quests and then proceed with a tier list analysis, as done in section 2"
   ],
   "cell_type": "markdown",
   "metadata": {}
  },
  {
   "source": [
    "## 3.1 - BOXPLOTS\n",
    "Do some boxplots to quickly see the outliers"
   ],
   "cell_type": "markdown",
   "metadata": {}
  },
  {
   "cell_type": "code",
   "execution_count": null,
   "metadata": {},
   "outputs": [],
   "source": [
    "#Freestyle runs\n",
    "plt.figure(figsize=figure_size)\n",
    "sns.boxplot(x='Weapon',y='Time (s)',data=freestyle).set_title(\"Freestyle runs\",fontsize=font_size)\n",
    "\n",
    "#TA runs\n",
    "plt.figure(figsize=figure_size)\n",
    "sns.boxplot(x='Weapon',y='Time (s)',data=freestyle,whis=1.5).set_title(\"Freestyle runs\",fontsize=font_size)\n",
    "# sns.boxplot(x='Weapon',y='Time (s)',data=ta).set_title(\"TA runs\",fontsize=font_size)"
   ]
  },
  {
   "cell_type": "code",
   "execution_count": null,
   "metadata": {},
   "outputs": [],
   "source": [
    "#Eliminate outliers\n",
    "fs_out = remove_outliers(freestyle,mult=1.5) #Freestyle\n",
    "ta_out = remove_outliers(ta,mult=1.5)\n",
    "\n",
    "#Plot to check\n",
    "plt.figure(figsize=figure_size)\n",
    "sns.boxplot(x='Weapon',y='Time (s)',data=fs_out).set_title(\"Freestyle runs - No Outliers\",fontsize=font_size)\n",
    "\n",
    "plt.figure(figsize=figure_size)\n",
    "sns.boxplot(x='Weapon',y='Time (s)',data=ta_out).set_title(\"TA runs - No Outliers\",fontsize=font_size)"
   ]
  },
  {
   "source": [
    "## 3.2 - BARPLOTS & TIME TABLES\n",
    "Display bar plots of the average top clear times for each weapon, separated both by Monster and by quest.\n",
    "Also display the average top clear times themselves.\n",
    "\n",
    "Tier lists will be shown in the next section"
   ],
   "cell_type": "markdown",
   "metadata": {}
  },
  {
   "cell_type": "code",
   "execution_count": null,
   "metadata": {},
   "outputs": [],
   "source": [
    "#Filter out so we have only QUESTS with at least one entry per weapon\n",
    "fs_out_quest = filter_by_weapon(fs_out,filter_by='Monster Name')\n",
    "ta_out_quest = filter_by_weapon(ta_out,filter_by='Monster Name')\n",
    "\n",
    "#Get average times\n",
    "fs_out_quest = average_top_runs(fs_out_quest,'Monster/Weapon')\n",
    "ta_out_quest = average_top_runs(ta_out_quest,'Monster/Weapon')\n",
    "\n",
    "plt.figure(figsize=figure_size)\n",
    "sns.barplot(x='Weapon',y='Time (s)',data=fs_out_quest).set_title('Average TOP clear time by Monster - Freestyle', fontsize =font_size)\n",
    "\n",
    "plt.figure(figsize=figure_size)\n",
    "sns.barplot(x='Weapon',y='Time (s)',data=ta_out_quest).set_title('Average TOP clear time by Monster - TA', fontsize =font_size)\n",
    "\n",
    "#Create 'Weapon (long)' column to have long form weapon names\n",
    "#First, get the inverse weapon_dict to go from short names to long names\n",
    "inv_weapon_dict = {value: key for key, value in weapon_dict.items()}\n",
    "\n",
    "#Apply mapping from inv_weapon-dict\n",
    "fs_out_quest['Weapon (long)']=fs_out_quest['Weapon'].apply(lambda x: inv_weapon_dict[x])\n",
    "ta_out_quest['Weapon (long)']=ta_out_quest['Weapon'].apply(lambda x: inv_weapon_dict[x])\n",
    "\n",
    "#Numerical values\n",
    "print('Freestyle average top clear times per weapon (1 entry per monster)')\n",
    "print(fs_aw_avg[['Weapon (long)','Time (s)']])\n",
    "print('\\nTA Rules average top clear times per weapon (1 entry per monster)')\n",
    "print(ta_aw_avg[['Weapon (long)','Time (s)']])"
   ]
  },
  {
   "source": [
    "## 3.3 - TIER LISTS"
   ],
   "cell_type": "markdown",
   "metadata": {}
  },
  {
   "cell_type": "code",
   "execution_count": null,
   "metadata": {},
   "outputs": [],
   "source": [
    "#Make some tier lists\n",
    "\n",
    "#Freestyle\n",
    "tl_fs_out_quest   = make_tiers(fs_out_quest,n_tiers=7) #By quest\n",
    "\n",
    "#TA\n",
    "tl_ta_out_quest   = make_tiers(ta_out_quest,n_tiers=7) #By quest"
   ]
  },
  {
   "cell_type": "code",
   "execution_count": null,
   "metadata": {},
   "outputs": [],
   "source": [
    "#Display tier lists\n",
    "\n",
    "print('Freestyle Tier list - Best times by QUEST (No Outliers)')\n",
    "tl_fs_out_quest"
   ]
  },
  {
   "cell_type": "code",
   "execution_count": null,
   "metadata": {},
   "outputs": [],
   "source": [
    "print('TA Tier list - Best times by QUEST (No Outliers)')\n",
    "tl_ta_out_quest"
   ]
  },
  {
   "cell_type": "code",
   "execution_count": null,
   "metadata": {},
   "outputs": [],
   "source": []
  }
 ],
 "metadata": {
  "kernelspec": {
   "name": "ibspeedrun",
   "display_name": "ibspeedrun",
   "language": "python"
  },
  "language_info": {
   "codemirror_mode": {
    "name": "ipython",
    "version": 3
   },
   "file_extension": ".py",
   "mimetype": "text/x-python",
   "name": "python",
   "nbconvert_exporter": "python",
   "pygments_lexer": "ipython3",
   "version": "3.8.5-final"
  }
 },
 "nbformat": 4,
 "nbformat_minor": 4
}